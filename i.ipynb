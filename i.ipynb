{
 "cells": [
  {
   "cell_type": "code",
   "execution_count": 1,
   "metadata": {},
   "outputs": [],
   "source": [
    "import os\n",
    "os.environ[\"SPARK_VERSION\"] = \"3.1\"\n",
    "import pandas as pd\n",
    "import numpy as np\n",
    "import matplotlib.pyplot as plt\n",
    "import seaborn as sns\n",
    "%matplotlib inline\n",
    "\n",
    "from pyspark.sql import SparkSession\n",
    "\n",
    "from pyspark.sql.functions import count, round, concat\n",
    "from pyspark.sql.functions import mean, min, max, sum, datediff, to_date\n",
    "from pyspark.sql.functions import to_utc_timestamp, unix_timestamp, lit, datediff, col\n",
    "import pyspark.sql.functions as func\n",
    "from pyspark.sql.functions import when\n"
   ]
  },
  {
   "cell_type": "code",
   "execution_count": null,
   "metadata": {},
   "outputs": [],
   "source": [
    "#!pip install pydeequ\n",
    "\n",
    "import pydeequ\n",
    "from pydeequ.checks import *\n",
    "from pydeequ.verification import *\n",
    "from pydeequ.analyzers import *\n",
    "from pydeequ.anomaly_detection import *\n",
    "from pydeequ.profiles import *"
   ]
  },
  {
   "cell_type": "code",
   "execution_count": null,
   "metadata": {},
   "outputs": [],
   "source": [
    "# spark = SparkSession \\\n",
    "#     .builder \\\n",
    "#     .appName(\"testData\") \\\n",
    "#     .config(\"spark.some.config.option\", \"some-value\") \\\n",
    "#     .getOrCreate()\n",
    "spark = SparkSession.builder.appName(\"testData\").getOrCreate()"
   ]
  },
  {
   "cell_type": "code",
   "execution_count": null,
   "metadata": {},
   "outputs": [],
   "source": [
    "import warnings\n",
    "warnings.filterwarnings(\"ignore\")"
   ]
  },
  {
   "cell_type": "code",
   "execution_count": null,
   "metadata": {},
   "outputs": [],
   "source": [
    "data = spark.read.csv('testData.csv', header='true')"
   ]
  },
  {
   "cell_type": "code",
   "execution_count": null,
   "metadata": {},
   "outputs": [],
   "source": [
    "df = data.toPandas()"
   ]
  },
  {
   "cell_type": "code",
   "execution_count": null,
   "metadata": {},
   "outputs": [
    {
     "data": {
      "text/html": [
       "<div>\n",
       "<style scoped>\n",
       "    .dataframe tbody tr th:only-of-type {\n",
       "        vertical-align: middle;\n",
       "    }\n",
       "\n",
       "    .dataframe tbody tr th {\n",
       "        vertical-align: top;\n",
       "    }\n",
       "\n",
       "    .dataframe thead th {\n",
       "        text-align: right;\n",
       "    }\n",
       "</style>\n",
       "<table border=\"1\" class=\"dataframe\">\n",
       "  <thead>\n",
       "    <tr style=\"text-align: right;\">\n",
       "      <th></th>\n",
       "      <th>status</th>\n",
       "      <th>bed</th>\n",
       "      <th>bath</th>\n",
       "      <th>acre_lot3</th>\n",
       "      <th>city</th>\n",
       "      <th>state</th>\n",
       "      <th>zip_code</th>\n",
       "      <th>acre_lot7</th>\n",
       "      <th>prev_sold_date</th>\n",
       "      <th>price</th>\n",
       "    </tr>\n",
       "  </thead>\n",
       "  <tbody>\n",
       "    <tr>\n",
       "      <th>0</th>\n",
       "      <td>for_sale</td>\n",
       "      <td>3.0</td>\n",
       "      <td>2.0</td>\n",
       "      <td>0.12</td>\n",
       "      <td>Adjuntas</td>\n",
       "      <td>Puerto Rico</td>\n",
       "      <td>601.0</td>\n",
       "      <td>920.0</td>\n",
       "      <td>None</td>\n",
       "      <td>105000.0</td>\n",
       "    </tr>\n",
       "    <tr>\n",
       "      <th>1</th>\n",
       "      <td>for_sale</td>\n",
       "      <td>4.0</td>\n",
       "      <td>2.0</td>\n",
       "      <td>0.08</td>\n",
       "      <td>Adjuntas</td>\n",
       "      <td>Puerto Rico</td>\n",
       "      <td>601.0</td>\n",
       "      <td>1527.0</td>\n",
       "      <td>None</td>\n",
       "      <td>80000.0</td>\n",
       "    </tr>\n",
       "    <tr>\n",
       "      <th>2</th>\n",
       "      <td>for_sale</td>\n",
       "      <td>2.0</td>\n",
       "      <td>1.0</td>\n",
       "      <td>0.15</td>\n",
       "      <td>Juana Diaz</td>\n",
       "      <td>Puerto Rico</td>\n",
       "      <td>795.0</td>\n",
       "      <td>748.0</td>\n",
       "      <td>None</td>\n",
       "      <td>67000.0</td>\n",
       "    </tr>\n",
       "    <tr>\n",
       "      <th>3</th>\n",
       "      <td>for_sale</td>\n",
       "      <td>4.0</td>\n",
       "      <td>2.0</td>\n",
       "      <td>0.1</td>\n",
       "      <td>Ponce</td>\n",
       "      <td>Puerto Rico</td>\n",
       "      <td>731.0</td>\n",
       "      <td>1800.0</td>\n",
       "      <td>None</td>\n",
       "      <td>145000.0</td>\n",
       "    </tr>\n",
       "    <tr>\n",
       "      <th>4</th>\n",
       "      <td>for_sale</td>\n",
       "      <td>6.0</td>\n",
       "      <td>2.0</td>\n",
       "      <td>0.05</td>\n",
       "      <td>Mayaguez</td>\n",
       "      <td>Puerto Rico</td>\n",
       "      <td>680.0</td>\n",
       "      <td>None</td>\n",
       "      <td>None</td>\n",
       "      <td>65000.0</td>\n",
       "    </tr>\n",
       "  </tbody>\n",
       "</table>\n",
       "</div>"
      ],
      "text/plain": [
       "     status  bed bath acre_lot3        city        state zip_code acre_lot7  \\\n",
       "0  for_sale  3.0  2.0      0.12    Adjuntas  Puerto Rico    601.0     920.0   \n",
       "1  for_sale  4.0  2.0      0.08    Adjuntas  Puerto Rico    601.0    1527.0   \n",
       "2  for_sale  2.0  1.0      0.15  Juana Diaz  Puerto Rico    795.0     748.0   \n",
       "3  for_sale  4.0  2.0       0.1       Ponce  Puerto Rico    731.0    1800.0   \n",
       "4  for_sale  6.0  2.0      0.05    Mayaguez  Puerto Rico    680.0      None   \n",
       "\n",
       "  prev_sold_date     price  \n",
       "0           None  105000.0  \n",
       "1           None   80000.0  \n",
       "2           None   67000.0  \n",
       "3           None  145000.0  \n",
       "4           None   65000.0  "
      ]
     },
     "execution_count": 26,
     "metadata": {},
     "output_type": "execute_result"
    }
   ],
   "source": [
    "df.head()"
   ]
  },
  {
   "cell_type": "code",
   "execution_count": null,
   "metadata": {},
   "outputs": [
    {
     "name": "stdout",
     "output_type": "stream",
     "text": [
      "+--------+---+----+---------+----------+-----------+--------+---------+--------------+--------+\n",
      "|  status|bed|bath|acre_lot3|      city|      state|zip_code|acre_lot7|prev_sold_date|   price|\n",
      "+--------+---+----+---------+----------+-----------+--------+---------+--------------+--------+\n",
      "|for_sale|3.0| 2.0|     0.12|  Adjuntas|Puerto Rico|   601.0|    920.0|          null|105000.0|\n",
      "|for_sale|4.0| 2.0|     0.08|  Adjuntas|Puerto Rico|   601.0|   1527.0|          null| 80000.0|\n",
      "|for_sale|2.0| 1.0|     0.15|Juana Diaz|Puerto Rico|   795.0|    748.0|          null| 67000.0|\n",
      "|for_sale|4.0| 2.0|      0.1|     Ponce|Puerto Rico|   731.0|   1800.0|          null|145000.0|\n",
      "|for_sale|6.0| 2.0|     0.05|  Mayaguez|Puerto Rico|   680.0|     null|          null| 65000.0|\n",
      "+--------+---+----+---------+----------+-----------+--------+---------+--------------+--------+\n",
      "only showing top 5 rows\n",
      "\n"
     ]
    }
   ],
   "source": [
    "data.show(5)"
   ]
  },
  {
   "cell_type": "code",
   "execution_count": null,
   "metadata": {},
   "outputs": [
    {
     "name": "stdout",
     "output_type": "stream",
     "text": [
      "root\n",
      " |-- status: string (nullable = true)\n",
      " |-- bed: string (nullable = true)\n",
      " |-- bath: string (nullable = true)\n",
      " |-- acre_lot3: string (nullable = true)\n",
      " |-- city: string (nullable = true)\n",
      " |-- state: string (nullable = true)\n",
      " |-- zip_code: string (nullable = true)\n",
      " |-- acre_lot7: string (nullable = true)\n",
      " |-- prev_sold_date: string (nullable = true)\n",
      " |-- price: string (nullable = true)\n",
      "\n"
     ]
    }
   ],
   "source": [
    "data.printSchema()"
   ]
  },
  {
   "cell_type": "code",
   "execution_count": null,
   "metadata": {},
   "outputs": [
    {
     "name": "stdout",
     "output_type": "stream",
     "text": [
      "+------+------+------+---------+------+------+--------+---------+--------------+------+\n",
      "|status|   bed|  bath|acre_lot3|  city| state|zip_code|acre_lot7|prev_sold_date| price|\n",
      "+------+------+------+---------+------+------+--------+---------+--------------+------+\n",
      "|904966|775126|791082|   638324|904894|904966|  904762|   612080|        445865|904895|\n",
      "+------+------+------+---------+------+------+--------+---------+--------------+------+\n",
      "\n"
     ]
    }
   ],
   "source": [
    "def my_count(df_in):\n",
    "    df_in.agg( *[ count(c).alias(c) for c in df_in.columns ] ).show()\n",
    "    \n",
    "my_count(data)"
   ]
  },
  {
   "cell_type": "code",
   "execution_count": null,
   "metadata": {},
   "outputs": [
    {
     "name": "stdout",
     "output_type": "stream",
     "text": [
      "+------+------+------+---------+------+------+--------+---------+--------------+------+\n",
      "|status|   bed|  bath|acre_lot3|  city| state|zip_code|acre_lot7|prev_sold_date| price|\n",
      "+------+------+------+---------+------+------+--------+---------+--------------+------+\n",
      "|226626|226626|226626|   226626|226626|226626|  226626|   226626|        226626|226626|\n",
      "+------+------+------+---------+------+------+--------+---------+--------------+------+\n",
      "\n"
     ]
    }
   ],
   "source": [
    "data = data.dropna()\n",
    "my_count(data)"
   ]
  },
  {
   "cell_type": "code",
   "execution_count": null,
   "metadata": {},
   "outputs": [],
   "source": [
    "# for c in data.columns:\n",
    "#     data=data.withColumn(c, func.round(data[c], 3).cast('integer'))"
   ]
  },
  {
   "cell_type": "code",
   "execution_count": null,
   "metadata": {},
   "outputs": [
    {
     "name": "stdout",
     "output_type": "stream",
     "text": [
      "root\n",
      " |-- status: string (nullable = true)\n",
      " |-- bed: string (nullable = true)\n",
      " |-- bath: string (nullable = true)\n",
      " |-- acre_lot3: string (nullable = true)\n",
      " |-- city: string (nullable = true)\n",
      " |-- state: string (nullable = true)\n",
      " |-- zip_code: string (nullable = true)\n",
      " |-- acre_lot7: string (nullable = true)\n",
      " |-- prev_sold_date: string (nullable = true)\n",
      " |-- price: string (nullable = true)\n",
      "\n"
     ]
    }
   ],
   "source": [
    "data.printSchema()"
   ]
  },
  {
   "cell_type": "code",
   "execution_count": null,
   "metadata": {},
   "outputs": [
    {
     "name": "stdout",
     "output_type": "stream",
     "text": [
      "+--------+---+----+---------+------+-----------+--------+---------+--------------+--------+\n",
      "|  status|bed|bath|acre_lot3|  city|      state|zip_code|acre_lot7|prev_sold_date|   price|\n",
      "+--------+---+----+---------+------+-----------+--------+---------+--------------+--------+\n",
      "|for_sale|7.0| 3.0|     0.09|Dorado|Puerto Rico|   949.0|   1192.0|    2019-06-28|110000.0|\n",
      "|for_sale|7.0| 3.0|     0.09|Dorado|Puerto Rico|   949.0|   1192.0|    2019-06-28|110000.0|\n",
      "+--------+---+----+---------+------+-----------+--------+---------+--------------+--------+\n",
      "only showing top 2 rows\n",
      "\n"
     ]
    }
   ],
   "source": [
    "data.show(2)"
   ]
  },
  {
   "cell_type": "code",
   "execution_count": null,
   "metadata": {},
   "outputs": [
    {
     "name": "stdout",
     "output_type": "stream",
     "text": [
      "+-------+--------+------------------+------------------+-----------------+--------+--------------+-----------------+------------------+--------------+\n",
      "|summary|  status|               bed|              bath|        acre_lot3|    city|         state|         zip_code|         acre_lot7|prev_sold_date|\n",
      "+-------+--------+------------------+------------------+-----------------+--------+--------------+-----------------+------------------+--------------+\n",
      "|  count|  226626|            226626|            226626|           226626|  226626|        226626|           226626|            226626|        226626|\n",
      "|   mean|    null|3.6635072763054546|2.6175858021586227| 4.88209596427591|    null|          null|6571.348058033941| 2295.169067097332|          null|\n",
      "| stddev|    null|1.5220413874511376| 1.416195151952199|206.5699091524893|    null|          null|4177.120875958267|2024.1620972080298|          null|\n",
      "|    min|for_sale|               1.0|               1.0|              0.0|Aberdeen|   Connecticut|          10001.0|            1000.0|    1901-01-01|\n",
      "|    max|for_sale|               9.0|               9.0|            999.0|   Yulan|Virgin Islands|            949.0|             999.0|    2023-03-01|\n",
      "+-------+--------+------------------+------------------+-----------------+--------+--------------+-----------------+------------------+--------------+\n",
      "\n"
     ]
    }
   ],
   "source": [
    "cols = data.columns[0:9]\n",
    "data.select(cols).describe().show()"
   ]
  },
  {
   "cell_type": "code",
   "execution_count": null,
   "metadata": {},
   "outputs": [
    {
     "name": "stdout",
     "output_type": "stream",
     "text": [
      "+----------+-----+\n",
      "|     price|count|\n",
      "+----------+-----+\n",
      "|   10000.0|   17|\n",
      "|  100000.0|  305|\n",
      "| 1000000.0|  154|\n",
      "|10000000.0|    4|\n",
      "|  100700.0|    4|\n",
      "| 1010000.0|   11|\n",
      "|  101500.0|    7|\n",
      "| 1018000.0|    3|\n",
      "|  102000.0|    5|\n",
      "| 1025000.0|  115|\n",
      "|10250000.0|   30|\n",
      "| 1028888.0|    2|\n",
      "|  103000.0|    2|\n",
      "| 1030000.0|   25|\n",
      "| 1035000.0|   31|\n",
      "| 1037000.0|    2|\n",
      "| 1038800.0|   12|\n",
      "| 1039000.0|   23|\n",
      "|  104500.0|    6|\n",
      "| 1048000.0|    1|\n",
      "+----------+-----+\n",
      "only showing top 20 rows\n",
      "\n"
     ]
    }
   ],
   "source": [
    "data.groupBy(\"price\").count().sort(col('price')).show()"
   ]
  },
  {
   "cell_type": "code",
   "execution_count": null,
   "metadata": {},
   "outputs": [],
   "source": [
    "def histogram(df, col, bins=10, xname=None, yname=None):\n",
    "\n",
    "    vals = df.select(col).rdd.flatMap(lambda x: x).histogram(bins)\n",
    "\n",
    "    width = vals[0][1] - vals[0][0]\n",
    "    loc = [vals[0][0] + (i+1) * width for i in range(len(vals[1]))]\n",
    "    \n",
    "    plt.bar(loc, vals[1], width=width)\n",
    "    plt.xlabel(col)\n",
    "    plt.ylabel(yname)\n",
    "    plt.show()"
   ]
  },
  {
   "cell_type": "code",
   "execution_count": null,
   "metadata": {},
   "outputs": [],
   "source": [
    "\n",
    "# histogram(data, 'price', bins=500,xname='price', yname='state')"
   ]
  },
  {
   "cell_type": "code",
   "execution_count": null,
   "metadata": {},
   "outputs": [],
   "source": [
    "# from pyspark.sql import functions as F\n",
    "\n",
    "# # Perform aggregation\n",
    "# aggregated_data = data.agg(F.avg('acre_lot').alias('avg_acre_lot'), F.avg('house_size').alias('avg_house_size')) \\\n",
    "#     .sort('avg_acre_lot')\n",
    "\n",
    "# # Show the aggregated data\n",
    "# aggregated_data.show()\n"
   ]
  },
  {
   "cell_type": "code",
   "execution_count": null,
   "metadata": {},
   "outputs": [],
   "source": [
    "def lineplot(df, x, y, measure='mean'):    \n",
    "    if measure == 'mean':\n",
    "        pd_df = df.groupBy(x).mean(y).toPandas().sort_values(by=x)\n",
    "        pd_df.plot(x, 'avg({})'.format(y), legend=False)\n",
    "    elif measure == 'total':\n",
    "        pd_df = df.groupBy(x).sum(y).toPandas().sort_values(by=x)\n",
    "        pd_df.plot(x, 'sum({})'.format(y), legend=False)\n",
    "    elif measure == 'count':\n",
    "        pd_df = df.groupBy(x).count().toPandas().sort_values(by=x)\n",
    "        pd_df.plot(x, 'count', legend=False)\n",
    "    plt.ylabel(y)\n",
    "    plt.show()"
   ]
  },
  {
   "cell_type": "code",
   "execution_count": null,
   "metadata": {},
   "outputs": [],
   "source": [
    "# lineplot(data, 'price', 'bed', measure='mean')"
   ]
  },
  {
   "cell_type": "code",
   "execution_count": null,
   "metadata": {},
   "outputs": [],
   "source": [
    "# lineplot(data, 'acre_lot', 'price', measure='mean')"
   ]
  },
  {
   "cell_type": "code",
   "execution_count": null,
   "metadata": {},
   "outputs": [
    {
     "name": "stdout",
     "output_type": "stream",
     "text": [
      "Found 1 response codes\n"
     ]
    }
   ],
   "source": [
    "area_lot_count =(data.groupBy('status').count().sort('status').cache())\n",
    "                                         \n",
    "area_lot_count = area_lot_count.count()\n",
    "print('Found %d response codes' % area_lot_count)\n"
   ]
  },
  {
   "cell_type": "code",
   "execution_count": null,
   "metadata": {},
   "outputs": [],
   "source": [
    "# histogram(data, 'status', bins=300)"
   ]
  },
  {
   "cell_type": "code",
   "execution_count": null,
   "metadata": {},
   "outputs": [
    {
     "name": "stdout",
     "output_type": "stream",
     "text": [
      "['status', 'bed', 'bath', 'acre_lot3', 'city', 'state', 'zip_code', 'acre_lot7', 'prev_sold_date', 'price']\n"
     ]
    }
   ],
   "source": [
    "#remove all whitespaces from every single column in the Dataframe\n",
    "tempList = [] \n",
    "for col in df.columns:\n",
    "  new_name = col.strip()\n",
    "  new_name = \"\".join(new_name.split())\n",
    "  new_name = new_name.replace('.','')  \n",
    "  tempList.append(new_name) \n",
    "print(tempList)\n",
    "\n",
    "data = data.toDF(*tempList)"
   ]
  },
  {
   "cell_type": "code",
   "execution_count": null,
   "metadata": {},
   "outputs": [
    {
     "name": "stdout",
     "output_type": "stream",
     "text": [
      "+------+---+----+---------+------------+--------------+--------+---------+--------------+---------+\n",
      "|status|bed|bath|acre_lot3|        city|         state|zip_code|acre_lot7|prev_sold_date|    price|\n",
      "+------+---+----+---------+------------+--------------+--------+---------+--------------+---------+\n",
      "|  0.01|7.0| 3.0|     0.09|      Dorado|   Puerto Rico|   949.0|   1192.0|    2019-06-28| 110000.0|\n",
      "|  0.01|7.0| 3.0|     0.09|      Dorado|   Puerto Rico|   949.0|   1192.0|    2019-06-28| 110000.0|\n",
      "|  0.01|7.0| 3.0|     0.09|      Dorado|   Puerto Rico|   949.0|   1192.0|    2019-06-28| 110000.0|\n",
      "|  0.01|7.0| 3.0|     0.09|      Dorado|   Puerto Rico|   949.0|   1192.0|    2019-06-28| 110000.0|\n",
      "|  0.01|7.0| 3.0|     0.09|      Dorado|   Puerto Rico|   949.0|   1192.0|    2019-06-28| 110000.0|\n",
      "|   0.2|5.0| 4.0|     0.99|Saint Thomas|Virgin Islands|   802.0|   5000.0|    2013-10-11| 950000.0|\n",
      "|  0.21|4.0| 6.0|     0.83|Saint Thomas|Virgin Islands|   802.0|   4600.0|    2018-04-05|6899000.0|\n",
      "|  0.21|4.0| 6.0|     0.83|Saint Thomas|Virgin Islands|   802.0|   4600.0|    2018-04-05|6899000.0|\n",
      "|  0.21|4.0| 6.0|     0.83|Saint Thomas|Virgin Islands|   802.0|   4600.0|    2018-04-05|6899000.0|\n",
      "|  0.01|7.0| 3.0|     0.09|      Dorado|   Puerto Rico|   949.0|   1192.0|    2019-06-28| 110000.0|\n",
      "+------+---+----+---------+------------+--------------+--------+---------+--------------+---------+\n",
      "only showing top 10 rows\n",
      "\n"
     ]
    }
   ],
   "source": [
    "data = data.withColumn('status', round(data['acre_lot3'] / data['bed'], 2))\n",
    "data.show(10)"
   ]
  },
  {
   "cell_type": "code",
   "execution_count": null,
   "metadata": {},
   "outputs": [
    {
     "name": "stdout",
     "output_type": "stream",
     "text": [
      "+------+---+----+---------+------+-----------+--------+---------+--------------+--------+\n",
      "|status|bed|bath|acre_lot3|  city|      state|zip_code|acre_lot7|prev_sold_date|   price|\n",
      "+------+---+----+---------+------+-----------+--------+---------+--------------+--------+\n",
      "|  0.01|7.0| 3.0|     0.09|Dorado|Puerto Rico|   949.0|   1192.0|    2019-06-28|110000.0|\n",
      "|  0.01|7.0| 3.0|     0.09|Dorado|Puerto Rico|   949.0|   1192.0|    2019-06-28|110000.0|\n",
      "|  0.01|7.0| 3.0|     0.09|Dorado|Puerto Rico|   949.0|   1192.0|    2019-06-28|110000.0|\n",
      "|  0.01|7.0| 3.0|     0.09|Dorado|Puerto Rico|   949.0|   1192.0|    2019-06-28|110000.0|\n",
      "|  0.01|7.0| 3.0|     0.09|Dorado|Puerto Rico|   949.0|   1192.0|    2019-06-28|110000.0|\n",
      "|  0.01|7.0| 3.0|     0.09|Dorado|Puerto Rico|   949.0|   1192.0|    2019-06-28|110000.0|\n",
      "|  0.01|7.0| 3.0|     0.09|Dorado|Puerto Rico|   949.0|   1192.0|    2019-06-28|110000.0|\n",
      "|  0.01|7.0| 3.0|     0.09|Dorado|Puerto Rico|   949.0|   1192.0|    2019-06-28|110000.0|\n",
      "|  0.01|7.0| 3.0|     0.09|Dorado|Puerto Rico|   949.0|   1192.0|    2019-06-28|110000.0|\n",
      "|  0.01|7.0| 3.0|     0.09|Dorado|Puerto Rico|   949.0|   1192.0|    2019-06-28|110000.0|\n",
      "|  0.01|7.0| 3.0|     0.09|Dorado|Puerto Rico|   949.0|   1192.0|    2019-06-28|110000.0|\n",
      "|  0.01|7.0| 3.0|     0.09|Dorado|Puerto Rico|   949.0|   1192.0|    2019-06-28|110000.0|\n",
      "|  0.01|7.0| 3.0|     0.09|Dorado|Puerto Rico|   949.0|   1192.0|    2019-06-28|110000.0|\n",
      "|  0.01|7.0| 3.0|     0.09|Dorado|Puerto Rico|   949.0|   1192.0|    2019-06-28|110000.0|\n",
      "|  0.01|7.0| 3.0|     0.09|Dorado|Puerto Rico|   949.0|   1192.0|    2019-06-28|110000.0|\n",
      "|  0.01|7.0| 3.0|     0.09|Dorado|Puerto Rico|   949.0|   1192.0|    2019-06-28|110000.0|\n",
      "|  0.01|7.0| 3.0|     0.09|Dorado|Puerto Rico|   949.0|   1192.0|    2019-06-28|110000.0|\n",
      "|  0.01|7.0| 3.0|     0.09|Dorado|Puerto Rico|   949.0|   1192.0|    2019-06-28|110000.0|\n",
      "|  0.01|7.0| 3.0|     0.09|Dorado|Puerto Rico|   949.0|   1192.0|    2019-06-28|110000.0|\n",
      "|  0.01|7.0| 3.0|     0.09|Dorado|Puerto Rico|   949.0|   1192.0|    2019-06-28|110000.0|\n",
      "+------+---+----+---------+------+-----------+--------+---------+--------------+--------+\n",
      "only showing top 20 rows\n",
      "\n",
      "+------+---+----+---------+------+-----------+--------+---------+--------------+--------+\n",
      "|status|bed|bath|acre_lot3|  city|      state|zip_code|acre_lot7|prev_sold_date|   price|\n",
      "+------+---+----+---------+------+-----------+--------+---------+--------------+--------+\n",
      "|  0.01|7.0| 3.0|     0.09|Dorado|Puerto Rico|   949.0|   1192.0|    2019-06-28|110000.0|\n",
      "|  0.01|7.0| 3.0|     0.09|Dorado|Puerto Rico|   949.0|   1192.0|    2019-06-28|110000.0|\n",
      "+------+---+----+---------+------+-----------+--------+---------+--------------+--------+\n",
      "only showing top 2 rows\n",
      "\n"
     ]
    }
   ],
   "source": [
    "data.filter((data['status']==0.01) & (data['price']>1100) & (data['acre_lot7']>1190)).show()\n",
    "data.show(2)"
   ]
  },
  {
   "cell_type": "code",
   "execution_count": null,
   "metadata": {},
   "outputs": [
    {
     "data": {
      "text/plain": [
       "[Row(status=1, bed='7.0', bath='3.0', acre_lot3='0.09', city='Dorado', state='Puerto Rico', zip_code='949.0', acre_lot7='1192.0', prev_sold_date='2019-06-28', price='110000.0'),\n",
       " Row(status=1, bed='7.0', bath='3.0', acre_lot3='0.09', city='Dorado', state='Puerto Rico', zip_code='949.0', acre_lot7='1192.0', prev_sold_date='2019-06-28', price='110000.0')]"
      ]
     },
     "execution_count": 52,
     "metadata": {},
     "output_type": "execute_result"
    }
   ],
   "source": [
    "data = data.withColumn('status', \n",
    "                       when((data['price'] > 10000) & (data['acre_lot7'] ==4000), 1) \\\n",
    "                       .when((data['acre_lot7'] > 0.1), 1) \\\n",
    "                       .otherwise(0))\n",
    "\n",
    "data.head(2)"
   ]
  },
  {
   "cell_type": "code",
   "execution_count": null,
   "metadata": {},
   "outputs": [],
   "source": [
    "def pieplot(df, col, lim=10, yname=None):\n",
    "\n",
    "    classes = df.groupBy(col).count().orderBy('count', ascending=False)\n",
    "    \n",
    "    pd_df = classes.limit(lim).toPandas()\n",
    "    \n",
    "    pd_df.plot(kind='pie', x=col, y='count', \\\n",
    "           labels=pd_df[col], legend=False)\n",
    "    plt.ylabel(None)\n",
    "    plt.show()"
   ]
  },
  {
   "cell_type": "code",
   "execution_count": null,
   "metadata": {},
   "outputs": [
    {
     "data": {
      "image/png": "[encoded data removed]",
      "text/plain": [
       "<Figure size 432x288 with 1 Axes>"
      ]
     },
     "metadata": {},
     "output_type": "display_data"
    }
   ],
   "source": [
    "data_graph = data.filter((data['acre_lot7']==0.1) & (data['price'] > 1400))\n",
    "pieplot(data_graph, 'acre_lot7')"
   ]
  },
  {
   "cell_type": "code",
   "execution_count": null,
   "metadata": {},
   "outputs": [],
   "source": [
    "def boxplot(df, col, group_by): \n",
    "    pd_df = df.toPandas()\n",
    "    pd_df.boxplot(col, by=group_by, figsize=(8, 5))\n",
    "    plt.ylabel(col)\n",
    "    plt.title(None)\n",
    "    plt.show()"
   ]
  },
  {
   "cell_type": "code",
   "execution_count": null,
   "metadata": {},
   "outputs": [],
   "source": [
    "# boxplot(data, 'price','city')"
   ]
  },
  {
   "cell_type": "code",
   "execution_count": null,
   "metadata": {},
   "outputs": [],
   "source": [
    "# # Initialization of a test\n",
    "# check = Check(spark, CheckLevel.Error, \"Integrity checks\")\n",
    "\n",
    "# # testData overview / data testing\n",
    "# checkResult = VerificationSuite(spark) \\\n",
    "#     .onData(data) \\\n",
    "#     .addCheck(\n",
    "#         check.hasSize(lambda x: x >= 50) \\\n",
    "#         .hasMin(\"price\", lambda x: x > 0) \\\n",
    "#         .isComplete(\"status\")  \\\n",
    "#         .isUnique(\"prev_sold_date\")  \\\n",
    "#         .isNonNegative(\"price\")) \\\n",
    "#     .run()\n",
    "\n",
    "# # Running verification\n",
    "# checkResult_df = VerificationResult.checkResultsAsDataFrame(spark, checkResult)\n",
    "# checkResult_df.show()\n",
    "\n",
    "# # Describing the result\n",
    "# if checkResult.status == \"Success\":\n",
    "#     print('Tests passed')\n",
    "# else:\n",
    "#     print('Errors found:')\n",
    "\n",
    "#     for check_json in checkResult.checkResults:\n",
    "#         if check_json['constraint_status'] != \"Success\":\n",
    "#             print(f\"\\t{check_json['constraint']} reason: {check_json['constraint_message']}\")\n"
   ]
  },
  {
   "cell_type": "code",
   "execution_count": null,
   "metadata": {},
   "outputs": [],
   "source": [
    "# analysisResult = AnalysisRunner(spark) \\\n",
    "#                     .onData(data) \\\n",
    "#                     .addAnalyzer(Size()) \\\n",
    "#                     .addAnalyzer(Completeness(\"price\")) \\\n",
    "#                     .addAnalyzer(ApproxCountDistinct(\"city\")) \\\n",
    "#                     .addAnalyzer(Mean(\"acre_lot\")) \\\n",
    "#                     .addAnalyzer(Compliance(\"acre_lot\", \"acre_lot >= 140.0\")) \\\n",
    "#                     .addAnalyzer(Correlation(\"bed\", \"bath\")) \\\n",
    "#                     .run()\n",
    "                    \n",
    "# analysisResult_df = AnalyzerContext.successMetricsAsDataFrame(spark, analysisResult)\n",
    "# analysisResult_df.show()"
   ]
  },
  {
   "cell_type": "code",
   "execution_count": null,
   "metadata": {},
   "outputs": [],
   "source": [
    "# result = ColumnProfilerRunner(spark) \\\n",
    "#     .onData(data) \\\n",
    "#     .run()\n",
    "\n",
    "# for col, profile in result.profiles.items():\n",
    "#     print(profile)"
   ]
  },
  {
   "cell_type": "code",
   "execution_count": null,
   "metadata": {},
   "outputs": [],
   "source": [
    "# anomalyResult = VerificationSuite(spark) \\\n",
    "#     .onData(data) \\\n",
    "#     .addAnomalyCheck(BatchNormalStrategy(lowerDeviationFactor=3.0, upperDeviationFactor=3.0, includeInterval=False)) \\\n",
    "#     .run()\n",
    "\n",
    "# anomalyResult = VerificationResult.checkResultsAsDataFrame(spark, anomalyResult)\n",
    "# anomalyResult.show()"
   ]
  }
 ],
 "metadata": {
  "kernelspec": {
   "display_name": "Python 3",
   "language": "python",
   "name": "python3"
  },
  "language_info": {
   "codemirror_mode": {
    "name": "ipython",
    "version": 3
   },
   "file_extension": ".py",
   "mimetype": "text/x-python",
   "name": "python",
   "nbconvert_exporter": "python",
   "pygments_lexer": "ipython3",
   "version": "3.8.8"
  },
  "orig_nbformat": 4
 },
 "nbformat": 4,
 "nbformat_minor": 2
}
